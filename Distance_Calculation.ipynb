{
 "cells": [
  {
   "cell_type": "code",
   "execution_count": 16,
   "metadata": {},
   "outputs": [
    {
     "name": "stdout",
     "output_type": "stream",
     "text": [
      "Enter coordinate of A:1,2\n",
      "Enter coordinate of B:1,2\n"
     ]
    }
   ],
   "source": [
    "#Write a program that calculate distance from two points\n",
    "A=input(\"Enter coordinate of A:\")  \n",
    "B=input(\"Enter coordinate of B:\")"
   ]
  },
  {
   "cell_type": "code",
   "execution_count": 17,
   "metadata": {},
   "outputs": [
    {
     "name": "stdout",
     "output_type": "stream",
     "text": [
      "1\n",
      "2\n",
      "1\n",
      "2\n"
     ]
    }
   ],
   "source": [
    "A=A.split(\",\")\n",
    "B=B.split(\",\")\n",
    "print(A[0])\n",
    "print(A[1])\n",
    "print(B[0])\n",
    "print(B[1])"
   ]
  },
  {
   "cell_type": "code",
   "execution_count": 18,
   "metadata": {},
   "outputs": [
    {
     "name": "stdout",
     "output_type": "stream",
     "text": [
      "0.0\n"
     ]
    }
   ],
   "source": [
    "for i in range(len(A)):\n",
    "    A[i]=float(A[i])\n",
    "    B[i]=float(B[i])\n",
    "    \n",
    "D=((A[0]-B[0])**2+(A[1]-B[1])**2)**(1/2)\n",
    "print(D)"
   ]
  },
  {
   "cell_type": "code",
   "execution_count": null,
   "metadata": {},
   "outputs": [],
   "source": []
  }
 ],
 "metadata": {
  "kernelspec": {
   "display_name": "Python 3",
   "language": "python",
   "name": "python3"
  },
  "language_info": {
   "codemirror_mode": {
    "name": "ipython",
    "version": 3
   },
   "file_extension": ".py",
   "mimetype": "text/x-python",
   "name": "python",
   "nbconvert_exporter": "python",
   "pygments_lexer": "ipython3",
   "version": "3.6.4"
  }
 },
 "nbformat": 4,
 "nbformat_minor": 2
}
