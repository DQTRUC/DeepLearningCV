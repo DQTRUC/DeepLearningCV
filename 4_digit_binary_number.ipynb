{
 "cells": [
  {
   "cell_type": "code",
   "execution_count": 1,
   "metadata": {},
   "outputs": [
    {
     "name": "stdout",
     "output_type": "stream",
     "text": [
      "Enter a sequence of 4 digit binary number:0100,1010,0011,1001\n",
      "0b1010\n"
     ]
    }
   ],
   "source": [
    "#Check a given 4 digit binary number whether divided by 5 or not\n",
    "A=input(\"Enter a sequence of 4 digit binary number:\")\n",
    "A=A.split(\",\")\n",
    "B=[]\n",
    "for i in range(len(A)):\n",
    "        A[i]=\"0b\" + A[i]\n",
    "        if int(A[i],2)%5==0:\n",
    "            print(A[i])"
   ]
  },
  {
   "cell_type": "code",
   "execution_count": null,
   "metadata": {},
   "outputs": [],
   "source": []
  }
 ],
 "metadata": {
  "kernelspec": {
   "display_name": "Python 3",
   "language": "python",
   "name": "python3"
  },
  "language_info": {
   "codemirror_mode": {
    "name": "ipython",
    "version": 3
   },
   "file_extension": ".py",
   "mimetype": "text/x-python",
   "name": "python",
   "nbconvert_exporter": "python",
   "pygments_lexer": "ipython3",
   "version": "3.6.4"
  }
 },
 "nbformat": 4,
 "nbformat_minor": 2
}
